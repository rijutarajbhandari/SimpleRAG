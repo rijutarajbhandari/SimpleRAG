{
  "nbformat": 4,
  "nbformat_minor": 0,
  "metadata": {
    "colab": {
      "provenance": []
    },
    "kernelspec": {
      "name": "python3",
      "display_name": "Python 3"
    },
    "language_info": {
      "name": "python"
    }
  },
  "cells": [
    {
      "cell_type": "code",
      "execution_count": 1,
      "metadata": {
        "id": "WfjCjtheL0H6"
      },
      "outputs": [],
      "source": [
        "documents = [\n",
        "    \"The capital of France is Paris.\",\n",
        "    \"The Eiffel Tower is located in Paris.\",\n",
        "    \"London is the capital of England.\",\n",
        "    \"The currency of France is the Euro.\",\n",
        "    \"England uses the Pound Sterling.\"\n",
        "]"
      ]
    },
    {
      "cell_type": "code",
      "source": [
        "def create_embedding(text):\n",
        "    # A very basic \"embedding\" - just the length of the string\n",
        "    return len(text)\n",
        "\n",
        "embeddings = [create_embedding(doc) for doc in documents]"
      ],
      "metadata": {
        "id": "u0okjcxAL4-U"
      },
      "execution_count": 2,
      "outputs": []
    },
    {
      "cell_type": "code",
      "source": [
        "def retrieve(query, document_embeddings, documents):\n",
        "    query_embedding = create_embedding(query)\n",
        "    similarities = [abs(query_embedding - doc_embedding) for doc_embedding in document_embeddings]\n",
        "    most_similar_index = similarities.index(min(similarities))\n",
        "    return documents[most_similar_index]"
      ],
      "metadata": {
        "id": "_t0xAmA3L6yu"
      },
      "execution_count": 3,
      "outputs": []
    },
    {
      "cell_type": "code",
      "source": [
        "def generate(query, context):\n",
        "    return f\"Based on the context: '{context}', a possible answer to your query '{query}' is related to this information.\""
      ],
      "metadata": {
        "id": "99kB6GrLL8js"
      },
      "execution_count": 4,
      "outputs": []
    },
    {
      "cell_type": "code",
      "source": [
        "def rag_pipeline(query, documents):\n",
        "    document_embeddings = [create_embedding(doc) for doc in documents]\n",
        "    retrieved_document = retrieve(query, document_embeddings, documents)\n",
        "    answer = generate(query, retrieved_document)\n",
        "    return answer\n",
        "\n",
        "# Example usage\n",
        "query = \"What is the capital of France?\"\n",
        "response = rag_pipeline(query, documents)\n",
        "print(response)\n",
        "\n",
        "query = \"Tell me about the currency of England.\"\n",
        "response = rag_pipeline(query, documents)\n",
        "print(response)"
      ],
      "metadata": {
        "colab": {
          "base_uri": "https://localhost:8080/"
        },
        "id": "hG2agPJhL-hd",
        "outputId": "2aeef8f3-89cf-4ca3-fbc6-5c7468dd8599"
      },
      "execution_count": 5,
      "outputs": [
        {
          "output_type": "stream",
          "name": "stdout",
          "text": [
            "Based on the context: 'The capital of France is Paris.', a possible answer to your query 'What is the capital of France?' is related to this information.\n",
            "Based on the context: 'The Eiffel Tower is located in Paris.', a possible answer to your query 'Tell me about the currency of England.' is related to this information.\n"
          ]
        }
      ]
    },
    {
      "cell_type": "code",
      "source": [],
      "metadata": {
        "id": "JHNAKqZQMAW3"
      },
      "execution_count": null,
      "outputs": []
    }
  ]
}